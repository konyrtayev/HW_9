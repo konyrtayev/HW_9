{
  "cells": [
    {
      "cell_type": "code",
      "execution_count": null,
      "metadata": {
        "colab": {
          "base_uri": "https://localhost:8080/"
        },
        "id": "LnNakTCyTjUA",
        "outputId": "91b6974a-8e2d-4efc-ca3e-4b925d77f8fa"
      },
      "outputs": [
        {
          "data": {
            "text/plain": [
              "206683.83635227982"
            ]
          },
          "execution_count": 20,
          "metadata": {},
          "output_type": "execute_result"
        }
      ],
      "source": [
        "import pandas as pd\n",
        "file_path2 = \"california_housing_train.csv\"\n",
        "dataF = pd.read_csv(file_path2, sep = ',')\n",
        "count = dataF[dataF[\"population\"] < 500].shape[0]\n",
        "dataF[dataF[\"population\"] < 500].median_house_value.sum() / count\n",
        "\n"
      ]
    },
    {
      "cell_type": "code",
      "execution_count": null,
      "metadata": {
        "colab": {
          "base_uri": "https://localhost:8080/"
        },
        "id": "GEn1sykWVZ0O",
        "outputId": "da74ab53-f65b-426b-d651-41e2e5474a44"
      },
      "outputs": [
        {
          "data": {
            "text/plain": [
              "4.0"
            ]
          },
          "execution_count": 17,
          "metadata": {},
          "output_type": "execute_result"
        }
      ],
      "source": [
        "dataF[dataF[\"population\"] == dataF[\"population\"].min()].households.max()"
      ]
    }
  ],
  "metadata": {
    "colab": {
      "provenance": []
    },
    "kernelspec": {
      "display_name": "Python 3",
      "name": "python3"
    },
    "language_info": {
      "name": "python"
    }
  },
  "nbformat": 4,
  "nbformat_minor": 0
}
